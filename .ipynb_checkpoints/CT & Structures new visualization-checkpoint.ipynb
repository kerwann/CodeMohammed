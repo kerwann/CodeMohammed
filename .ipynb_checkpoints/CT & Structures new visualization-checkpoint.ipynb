{
 "cells": [
  {
   "cell_type": "markdown",
   "metadata": {},
   "source": [
    "# IMPORTS\n"
   ]
  },
  {
   "cell_type": "code",
   "execution_count": 2,
   "metadata": {},
   "outputs": [],
   "source": [
    "# LIBRARIES\n",
    "\n",
    "\n",
    "# interactive matplotlib plots\n",
    "#%matplotlib notebook\n",
    "%matplotlib inline\n",
    "\n",
    "# imports\n",
    "import pydicom as dicom\n",
    "import numpy as np\n",
    "import scipy \n",
    "import os\n",
    "\n",
    "import matplotlib.pyplot as plt\n",
    "import matplotlib\n",
    "\n",
    "from ipywidgets import interact\n",
    "\n",
    "import numpy as np\n",
    "\n",
    "import time\n",
    "\n"
   ]
  },
  {
   "cell_type": "markdown",
   "metadata": {
    "heading_collapsed": true
   },
   "source": [
    "# CLASSES"
   ]
  },
  {
   "cell_type": "code",
   "execution_count": 3,
   "metadata": {
    "hidden": true
   },
   "outputs": [],
   "source": [
    "# CONVERTER CLASS\n",
    "# Converter Class to convert the images in the CT coordinates to display coordinates\n",
    "# It can be used to get the new coordinate of a point in the visualization fig\n",
    "# there is an offset of the center + a flip in the y direction\n",
    "\n",
    "class coordConverter:\n",
    "    \n",
    "    def __init__(self, xorigin, yorigin, pixsizex, pixsizey, dimx, dimy):\n",
    "        self.xorigin = xorigin\n",
    "        self.yorigin = yorigin\n",
    "        self.pixsizex = pixsizex\n",
    "        self.pixsizey = pixsizey\n",
    "        self.dimx = dimx\n",
    "        self.dimy = dimy\n",
    "\n",
    "    def convertCoord(self, x, y):\n",
    "        newposx = int(round((x-self.xorigin)/self.pixsizex))\n",
    "        newposy = int(round((y-self.yorigin)/self.pixsizey))\n",
    "        return (newposx, newposy)\n",
    "    \n",
    "    def converStructList(self, structList):\n",
    "        newPointList = []\n",
    "        for i in structList:\n",
    "            newposx = int(round((i[0]-self.xorigin)/self.pixsizex))\n",
    "            newposy = int(round((i[1]-self.yorigin)/self.pixsizey))\n",
    "            newPointList.append((newposx, newposy))\n",
    "        return newPointList\n"
   ]
  },
  {
   "cell_type": "markdown",
   "metadata": {
    "heading_collapsed": true
   },
   "source": [
    "# FUNCTIONS "
   ]
  },
  {
   "cell_type": "code",
   "execution_count": 4,
   "metadata": {
    "hidden": true
   },
   "outputs": [],
   "source": [
    "# DISPLAYS THE NAMES OF THE ROIS IN THE STRUCTURE FILE\n",
    "# @path: directory the file is\n",
    "# @file: name of the structure file\n",
    "\n",
    "def dispRoiNames(d):\n",
    "    \n",
    "    n = len(d.StructureSetROISequence)\n",
    "    print('The file contains', n, 'structures:')\n",
    "\n",
    "    for i in range(n):\n",
    "        print('  ', i, ':', d.StructureSetROISequence[i].ROIName, '(', \n",
    "              len(d.ROIContourSequence[i].ContourSequence), 'slices)')"
   ]
  },
  {
   "cell_type": "code",
   "execution_count": 5,
   "metadata": {
    "hidden": true
   },
   "outputs": [],
   "source": [
    "# RETURNS A LIST OF POINTS CORRESPONDING TO THE STRUCTURE \n",
    "# @contourDataset: contour at the selected slice\n",
    "\n",
    "def getPointList(contourDataset, dispNbPoints = False):\n",
    "    c1 = contourDataset.ContourData\n",
    "    nbpoints = int(contourDataset.NumberOfContourPoints) \n",
    "    if dispNbPoints: print(\"Nb of points in the structure on that slice:\", nbpoints)\n",
    "\n",
    "    pointList = []\n",
    "    for i in range (0,nbpoints):\n",
    "        x1 = c1[(i*3)]\n",
    "        y1 = c1[(i*3)+1]\n",
    "        pointList.append((x1, y1))\n",
    "\n",
    "    return pointList"
   ]
  },
  {
   "cell_type": "code",
   "execution_count": 6,
   "metadata": {
    "hidden": true
   },
   "outputs": [],
   "source": [
    "# RETURNS A DICTIONARY CONTAINING THE FILENAME CORRESPONDING TO EACH UI\n",
    "# This method helps to get de filename of the CT slice corresponding to the \n",
    "# UI stored in the structure datafile\n",
    "# @path: folder where all the CT slices are.\n",
    "\n",
    "def getCTdictionary(path):\n",
    "    \n",
    "    # handles `/` missing\n",
    "    if path[-1] != '/': path += '/'\n",
    "    \n",
    "    # gets the list of filenames:\n",
    "    fpaths = [path + f for f in os.listdir(path) if ('.dcm' in f or '.DCM' in f)]\n",
    "    \n",
    "    # reads all files and creates dictionary\n",
    "    n = 0\n",
    "    CTdict = {}\n",
    "    for fpath in fpaths:\n",
    "        f = dicom.read_file(fpath)\n",
    "        if ('Modality' in dir(f))and(f.Modality=='CT'):\n",
    "            CTdict.update({f.SOPInstanceUID : fpath})\n",
    "            n += 1\n",
    "            \n",
    "            \n",
    "    if n==0: print('No CT file found in this directory.')\n",
    "    \n",
    "    return CTdict"
   ]
  },
  {
   "cell_type": "markdown",
   "metadata": {},
   "source": [
    "# MAIN"
   ]
  },
  {
   "cell_type": "code",
   "execution_count": 11,
   "metadata": {},
   "outputs": [],
   "source": [
    "# Input parameters:\n",
    "\n",
    "# DICOM Files (structures, SPECT & CT)\n",
    "m_structFile = 'imgs/Torso PET Tc99m/CT/RS1.2.752.243.1.1.20200423172207042.2000.88865.dcm'\n",
    "m_spectFile = 'imgs/Torso PET Tc99m/reconstructed imgs/ACLIN1.col.900f.fr.col.S1.2986626.1_00000.DCM'\n",
    "m_CTpath = 'imgs/Torso PET Tc99m/CT/'\n",
    "#m_structFile = 'imgs/test mimou/contours.dcm'\n",
    "#m_spectFile = 'imgs/test mimou/spect.DCM'\n",
    "#m_CTpath = 'imgs/test mimou/'\n",
    "\n",
    "# ROI of interest\n",
    "m_ROInb = 0\n",
    "\n",
    "# SPECT Visualization window:\n",
    "m_SPECTvmin = 0    # absolute value\n",
    "m_SPECTvmax = 0.3  # *(max-min)+min\n",
    "\n",
    "m_CTvmin = -100    # absolute value\n",
    "m_CTvmax = 2000    # absolute value"
   ]
  },
  {
   "cell_type": "code",
   "execution_count": 12,
   "metadata": {
    "scrolled": false
   },
   "outputs": [
    {
     "name": "stdout",
     "output_type": "stream",
     "text": [
      "The file contains 5 structures:\n",
      "   0 : External ( 384 slices)\n",
      "   1 : lesion 1 ( 46 slices)\n",
      "   2 : lesion 2 ( 47 slices)\n",
      "   3 : lesion 3 ( 41 slices)\n",
      "   4 : poumons ( 161 slices)\n",
      "\n",
      "Dictionary containing UIDs and scan names created\n",
      "\n",
      "CT Image information:\n",
      " -> Image dimension in pixels: ( 512 x 512 )\n",
      " -> Pixel dimension in mm: ( 0.976562 x 0.976562 )\n",
      " -> Image Origin in mm: ( -250.000 x -250.000 , -95.000 )\n",
      "\n",
      "SPECT Image information:\n",
      " -> Image dimension in pixels: ( 128 x 128 )\n",
      " -> Pixel dimension in mm: ( 4.418156 x 4.418156 x 4.41816 )\n",
      " -> Image Origin in mm: ( -282.952906 , -278.352906 , 280.552906 )\n",
      "\n"
     ]
    }
   ],
   "source": [
    "# GETS THE IMPORTANT INFORMATION FROM THE FILES:\n",
    "\n",
    "# reads the structure file and display ROI names:\n",
    "m_struct = dicom.dcmread(m_structFile)\n",
    "dispRoiNames(m_struct)\n",
    "\n",
    "\n",
    "# Gets the dictionary UI:CTfilename\n",
    "m_CTdict = getCTdictionary(m_CTpath)\n",
    "print('\\nDictionary containing UIDs and scan names created')\n",
    "\n",
    "\n",
    "# Gets SPECT information:\n",
    "# Reads the CT image corresponding to the slice of interest:\n",
    "c_data = m_struct.ROIContourSequence[0].ContourSequence[0]\n",
    "imgID = c_data.ContourImageSequence[0].ReferencedSOPInstanceUID\n",
    "CTimg = dicom.read_file(m_CTdict[imgID])\n",
    "\n",
    "m_CTxSpacing, m_CTySpacing = float(CTimg.PixelSpacing[0]), float(CTimg.PixelSpacing[1])\n",
    "m_CTxOrigin, m_CTyOrigin, CTzOrigin = CTimg.ImagePositionPatient \n",
    "m_CTsizeX, m_CTsizeY = CTimg.Rows, CTimg.Columns\n",
    "\n",
    "print(\"\\nCT Image information:\")\n",
    "print(\" -> Image dimension in pixels: (\", m_CTsizeX, \"x\", m_CTsizeY, \")\")\n",
    "print(\" -> Pixel dimension in mm: (\", m_CTxSpacing, \"x\", m_CTySpacing, \")\")\n",
    "print(\" -> Image Origin in mm: (\", m_CTxOrigin, \"x\", m_CTyOrigin, \",\", CTzOrigin, \")\\n\")\n",
    "\n",
    "\n",
    "# Reads the SPECT image corresponding to the slice of interest:\n",
    "SPECTimg = dicom.read_file(m_spectFile)\n",
    "\n",
    "m_SPECTarray = SPECTimg.pixel_array\n",
    "m_SPECTxSpacing, m_SPECTySpacing = float(SPECTimg.PixelSpacing[0]), float(SPECTimg.PixelSpacing[1])\n",
    "m_SPECTzSpacing = SPECTimg[0x0018,0x0050].value\n",
    "[m_SPECTxOrigin, m_SPECTyOrigin, m_SPECTzOrigin] = SPECTimg[0x0054,0x0022][0][0x0020,0X0032] \n",
    "m_SPECTsizeX, m_SPECTsizeY = SPECTimg.Rows, SPECTimg.Columns\n",
    "\n",
    "print(\"SPECT Image information:\")\n",
    "print(\" -> Image dimension in pixels: (\", m_SPECTsizeX, \"x\", m_SPECTsizeY, \")\")\n",
    "print(\" -> Pixel dimension in mm: (\", m_SPECTxSpacing, \"x\", m_SPECTySpacing, \"x\", m_SPECTzSpacing, \")\")\n",
    "print(\" -> Image Origin in mm: (\", m_SPECTxOrigin, \",\", m_SPECTyOrigin, \",\", m_SPECTzOrigin, \")\\n\")\n",
    "\n",
    "\n",
    "# Defines the basics of the figure: \n",
    "CTgrid_size = (m_CTsizeX, m_CTsizeY)\n"
   ]
  },
  {
   "cell_type": "code",
   "execution_count": 13,
   "metadata": {
    "scrolled": false
   },
   "outputs": [
    {
     "data": {
      "application/vnd.jupyter.widget-view+json": {
       "model_id": "ae422bc858924ceca5c15c0629a830d8",
       "version_major": 2,
       "version_minor": 0
      },
      "text/plain": [
       "interactive(children=(IntSlider(value=191, description='x', max=383), Output()), _dom_classes=('widget-interac…"
      ]
     },
     "metadata": {},
     "output_type": "display_data"
    },
    {
     "data": {
      "text/plain": [
       "<function __main__.f(x)>"
      ]
     },
     "execution_count": 13,
     "metadata": {},
     "output_type": "execute_result"
    }
   ],
   "source": [
    "# Display function:\n",
    "def f(x):\n",
    "    cdata = m_struct.ROIContourSequence[m_ROInb].ContourSequence[x]\n",
    "    pointList = getPointList(cdata, dispNbPoints = False)\n",
    "    \n",
    "    fig, (ax1) = plt.subplots(1, figsize=(8,8))\n",
    "    ax1.set_xlim(-0.5, m_CTsizeX+0.5)\n",
    "    ax1.set_ylim(m_CTsizeY+0.5, -0.5)\n",
    "\n",
    "    imgID = cdata.ContourImageSequence[0].ReferencedSOPInstanceUID\n",
    "    CTimg = dicom.read_file(m_CTdict[imgID])\n",
    "    ax1.imshow(CTimg.pixel_array, cmap=\"Greys\", interpolation=\"nearest\", \n",
    "               vmin = m_CTvmin, vmax = m_CTvmax)\n",
    "\n",
    "    CT_pointList = cconv.converStructList(pointList)\n",
    "\n",
    "    polygoneCT = plt.Polygon(CT_pointList, fill=False, color = \"red\", linewidth=2)\n",
    "    ax1.add_patch(polygoneCT)\n",
    "\n",
    "\n",
    "# Visualization of the graph and the slider to scroll the slides:    \n",
    "\n",
    "nbSlices = len(m_struct.ROIContourSequence[m_ROInb].ContourSequence)\n",
    "cconv = coordConverter(m_CTxOrigin, m_CTyOrigin, m_CTxSpacing, m_CTySpacing, m_CTsizeX, m_CTsizeY)\n",
    "\n",
    "\n",
    "interact(f, x=(0, nbSlices-1, 1))"
   ]
  },
  {
   "cell_type": "code",
   "execution_count": null,
   "metadata": {},
   "outputs": [],
   "source": []
  }
 ],
 "metadata": {
  "kernelspec": {
   "display_name": "Python 3",
   "language": "python",
   "name": "python3"
  },
  "language_info": {
   "codemirror_mode": {
    "name": "ipython",
    "version": 3
   },
   "file_extension": ".py",
   "mimetype": "text/x-python",
   "name": "python",
   "nbconvert_exporter": "python",
   "pygments_lexer": "ipython3",
   "version": "3.7.6"
  }
 },
 "nbformat": 4,
 "nbformat_minor": 2
}
