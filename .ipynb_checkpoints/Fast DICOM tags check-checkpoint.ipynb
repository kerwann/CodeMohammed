{
 "cells": [
  {
   "cell_type": "code",
   "execution_count": 2,
   "metadata": {},
   "outputs": [],
   "source": [
    "import pydicom as dicom"
   ]
  },
  {
   "cell_type": "code",
   "execution_count": 19,
   "metadata": {},
   "outputs": [
    {
     "name": "stdout",
     "output_type": "stream",
     "text": [
      "['AccessionNumber', 'AcquisitionDate', 'AcquisitionTerminationCondition', 'AcquisitionTime', 'BitsAllocated', 'BitsStored', 'BodyPartExamined', 'Columns', 'ContentDate', 'ContentTime', 'CorrectedImage', 'CountRate', 'CountsAccumulated', 'DetectorInformationSequence', 'DeviceSerialNumber', 'EnergyWindowInformationSequence', 'EthnicGroup', 'FrameIncrementPointer', 'FrameOfReferenceUID', 'HighBit', 'ImageComments', 'ImageID', 'ImageType', 'InstanceCreationDate', 'InstanceCreationTime', 'InstanceCreatorUID', 'InstanceNumber', 'InstitutionName', 'LargestImagePixelValue', 'Manufacturer', 'ManufacturerModelName', 'Modality', 'NameOfPhysiciansReadingStudy', 'NumberOfDetectors', 'NumberOfEnergyWindows', 'NumberOfFrames', 'NumberOfRotations', 'NumberOfSlices', 'Occupation', 'OperatorsName', 'OtherPatientIDs', 'OtherPatientNames', 'PatientBirthDate', 'PatientGantryRelationshipCodeSequence', 'PatientID', 'PatientName', 'PatientOrientationCodeSequence', 'PatientSex', 'PatientSize', 'PatientWeight', 'PhotometricInterpretation', 'PixelData', 'PixelRepresentation', 'PixelSpacing', 'PositionReferenceIndicator', 'ProtocolName', 'RadiopharmaceuticalInformationSequence', 'ReferringPhysicianName', 'RotationInformationSequence', 'Rows', 'SOPClassUID', 'SOPInstanceUID', 'SamplesPerPixel', 'SeriesDate', 'SeriesDescription', 'SeriesInstanceUID', 'SeriesNumber', 'SeriesTime', 'SliceThickness', 'SliceVector', 'SmallestImagePixelValue', 'SoftwareVersions', 'SpacingBetweenSlices', 'StationName', 'StudyDate', 'StudyDescription', 'StudyID', 'StudyInstanceUID', 'StudyTime', 'TriggerSourceOrType', 'TypeOfDetectorMotion', 'WindowCenter', 'WindowWidth', '__contains__', '__delattr__', '__delitem__', '__dir__', '__enter__', '__eq__', '__exit__', '__format__', '__ge__', '__getattr__', '__getattribute__', '__getitem__', '__gt__', '__init__', '__init_subclass__', '__iter__', '__le__', '__len__', '__lt__', '__ne__', '__new__', '__reduce__', '__reduce_ex__', '__repr__', '__setattr__', '__setitem__', '__sizeof__', '__str__', '__subclasshook__', '__weakref__', '_character_set', '_convert_pixel_data_using_handler', '_convert_pixel_data_without_handler', '_dataset_slice', '_do_pixel_data_conversion', '_pretty_str', '_slice_dataset', 'add', 'add_new', 'clear', 'convert_pixel_data', 'copy', 'data_element', 'decode', 'decompress', 'dir', 'elements', 'ensure_file_meta', 'fix_meta_info', 'formatted_lines', 'from_json', 'fromkeys', 'get', 'get_item', 'get_private_item', 'group_dataset', 'is_original_encoding', 'items', 'iterall', 'keys', 'overlay_array', 'pixel_array', 'pop', 'popitem', 'private_block', 'private_creators', 'remove_private_tags', 'save_as', 'set_original_encoding', 'setdefault', 'to_json', 'to_json_dict', 'top', 'trait_names', 'update', 'values', 'walk']\n",
      "\n",
      "\n",
      "(0054, 0022) Detector Information Sequence       SQ: <Sequence, length 1>\n",
      "\n",
      "\n",
      "-283.252906\n",
      "\n",
      "\n",
      "cA mARCHE !\n"
     ]
    }
   ],
   "source": [
    "f = dicom.read_file(\"imgs/spect.DCM\")\n",
    "print(dir(f))\n",
    "print('\\n')\n",
    "\n",
    "print(f['DetectorInformationSequence'])\n",
    "print('\\n')\n",
    "\n",
    "print(f[0x0054,0x0022][0][0x0020,0X0032][0])\n",
    "print('\\n')\n",
    "\n",
    "if f['Modality'].value == 'NM':\n",
    "    print('cA mARCHE !')\n",
    "    \n"
   ]
  },
  {
   "cell_type": "code",
   "execution_count": null,
   "metadata": {},
   "outputs": [],
   "source": []
  },
  {
   "cell_type": "code",
   "execution_count": null,
   "metadata": {},
   "outputs": [],
   "source": []
  }
 ],
 "metadata": {
  "kernelspec": {
   "display_name": "Python 3",
   "language": "python",
   "name": "python3"
  },
  "language_info": {
   "codemirror_mode": {
    "name": "ipython",
    "version": 3
   },
   "file_extension": ".py",
   "mimetype": "text/x-python",
   "name": "python",
   "nbconvert_exporter": "python",
   "pygments_lexer": "ipython3",
   "version": "3.7.6"
  }
 },
 "nbformat": 4,
 "nbformat_minor": 4
}
